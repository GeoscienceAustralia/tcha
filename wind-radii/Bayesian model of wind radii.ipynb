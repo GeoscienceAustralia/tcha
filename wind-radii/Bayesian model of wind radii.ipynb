{
 "cells": [
  {
   "cell_type": "code",
   "execution_count": null,
   "metadata": {},
   "outputs": [],
   "source": [
    "%matplotlib inline\n",
    "import sys\n",
    "import pymc as pm\n",
    "import numpy as np\n",
    "import arviz as az\n",
    "import matplotlib.pyplot as plt\n",
    "from datetime import datetime\n",
    "from jtwc import load_jtwc_data\n",
    "plt.rcParams['figure.figsize'] = (10, 8)\n",
    "\n"
   ]
  },
  {
   "cell_type": "code",
   "execution_count": null,
   "metadata": {},
   "outputs": [],
   "source": [
    "input_path = r\"X:\\georisk\\HaRIA_B_Wind\\data\\raw\\from_jtwc\\bsh\"\n",
    "output_path = r\"X:\\georisk\\HaRIA_B_Wind\\projects\\tcha\\data\\derived\\windradii\""
   ]
  },
  {
   "cell_type": "code",
   "execution_count": null,
   "metadata": {},
   "outputs": [],
   "source": [
    "df = load_jtwc_data(input_path)"
   ]
  },
  {
   "cell_type": "markdown",
   "metadata": {},
   "source": [
    "Set up the predictors and predictand. We choose the absolute value of the latitude so that conceptually the model is independent of the hemisphere. The model is defined as $ln(R_{mw}) = \\alpha + \\beta_0 \\Delta p + \\beta_1 |\\lambda| + \\epsilon$, where $\\epsilon$ is an error term."
   ]
  },
  {
   "cell_type": "code",
   "execution_count": null,
   "metadata": {},
   "outputs": [],
   "source": [
    "mask = ~np.isnan(df.r34.values)\n",
    "X = np.column_stack((df.dP.values[mask], np.abs(df.Latitude.values[mask])))\n",
    "y = np.log(df.rMax.values[mask])"
   ]
  },
  {
   "cell_type": "markdown",
   "metadata": {},
   "source": [
    "We set up the model with fairly uninformative priors - all parameters are initialised with a normal distribution with zero mean. The intercept ($\\alpha$) is given a broader distribution ($\\sigma=10$), while the coefficients for $\\Delta p$ and $\\lambda$ are chosen to have unit variance. \n",
    "\n",
    "In the code below, we specify a prior for the magnitude of the variance of the error term $\\epsilon$ - this means we can estimate the variance $\\sigma^2$ to use in a $\\mathcal{N}(0,\\,\\sigma^{2})$ distribution."
   ]
  },
  {
   "cell_type": "code",
   "execution_count": null,
   "metadata": {},
   "outputs": [],
   "source": [
    "Xv = np.column_stack((df.Windspeed.values[mask], np.abs(df.Latitude.values[mask])))"
   ]
  },
  {
   "cell_type": "code",
   "execution_count": null,
   "metadata": {},
   "outputs": [],
   "source": [
    "with pm.Model() as rmaxmodel:\n",
    "    alpha = pm.Normal(r\"$\\alpha$\", mu=0, sigma=10)\n",
    "    beta = pm.Normal(r'$\\beta$', mu=0, sigma=1, shape=2)\n",
    "    mu = alpha + beta[0] * X[:, 0] + beta[1] * X[:, 1]\n",
    "    epsilon = pm.HalfNormal(r\"$\\epsilon$\", sigma=1)\n",
    "    y_hat = pm.Normal('y_hat', mu=mu, sigma=epsilon, observed=y)\n",
    "    step = pm.Metropolis()\n",
    "    trace = pm.sample(10000, tune=5000, step=step, return_inferencedata=True)\n",
    "    trace.extend(pm.sample_posterior_predictive(trace))"
   ]
  },
  {
   "cell_type": "code",
   "execution_count": null,
   "metadata": {},
   "outputs": [],
   "source": [
    "axes = az.plot_trace(trace, combined=False)\n",
    "aq = np.quantile(trace.posterior[r'$\\alpha$'], [0.05, 0.5, 0.95])\n",
    "bq = np.quantile(trace.posterior[r'$\\beta$'], [0.05, 0.5, 0.95], axis=(0, 1))\n",
    "eq = np.quantile(trace.posterior[r\"$\\epsilon$\"], [0.05, 0.5, 0.95])\n",
    "\n",
    "axes[0, 0].axvline(aq[1], ls='--', color='k', label=rf'$\\alpha = {{{aq[1]:.2f}}}$')\n",
    "axes[0, 0].axvline(aq[0], ls='--', color='gray', label=f\"90% CI [{aq[0]:.2f}, {aq[2]:.2f}]\")\n",
    "axes[0, 0].axvline(aq[2], ls='--', color='gray')\n",
    "\n",
    "axes[1, 0].axvline(bq[1, 0], ls='--', color='b', label=rf'$\\beta_0 = {{{bq[1, 0]:.4f}}}$ [{bq[0, 0]:.4f}, {bq[2, 0]:.4f}]')\n",
    "axes[1, 0].axvline(bq[0, 0], ls='--', color='gray',)\n",
    "axes[1, 0].axvline(bq[2, 0], ls='--', color='gray')\n",
    "\n",
    "axes[1, 0].axvline(bq[1, 1], ls='--', color='y', label=rf'$\\beta_1 = {{{bq[1, 1]:.4f}}}$ [{bq[0, 1]:.4f}, {bq[2, 1]:.4f}]')\n",
    "axes[1, 0].axvline(bq[0, 1], ls='--', color='gray',)\n",
    "axes[1, 0].axvline(bq[2, 1], ls='--', color='gray')\n",
    "\n",
    "axes[2, 0].axvline(eq[1], ls='--', color='k', label=rf'$\\epsilon = {{{eq[1]:.3f}}}$')\n",
    "axes[2, 0].axvline(eq[0], ls='--', color='gray', label=f\"90% CI [{eq[0]:.3f}, {eq[2]:.3f}]\")\n",
    "axes[2, 0].axvline(eq[2], ls='--', color='gray')\n",
    "\n",
    "axes[0, 0].legend(fontsize='x-small')\n",
    "axes[1, 0].legend(fontsize='x-small')\n",
    "axes[2, 0].legend(fontsize='x-small')\n",
    "plt.tight_layout()"
   ]
  },
  {
   "cell_type": "code",
   "execution_count": null,
   "metadata": {},
   "outputs": [],
   "source": [
    "az.summary(trace, round_to=4, hdi_prob=0.9,)"
   ]
  },
  {
   "cell_type": "code",
   "execution_count": null,
   "metadata": {},
   "outputs": [],
   "source": [
    "#trace.posterior['ymodel'] = trace.posterior['alpha'] + trace.posterior['beta'] * xr.DataArray(X) + trace.posterior['error']\n",
    "plt.scatter(X[:,0], np.exp(trace.posterior_predictive['y_hat'][0, 0, :]), marker='.', alpha=0.25)\n",
    "plt.scatter(X[:,0], np.exp(trace.posterior_predictive['y_hat'][1, 0, :]), marker='x', alpha=0.25)\n",
    "plt.scatter(X[:,0], np.exp(trace.posterior_predictive['y_hat'][2, 0, :]), marker='p', alpha=0.25)\n",
    "plt.scatter(X[:,0], np.exp(trace.posterior_predictive['y_hat'][3, 0, :]), marker='d', alpha=0.25)\n",
    "plt.scatter(X[:, 0], np.exp(y), marker='x', c='k')\n",
    "plt.xlabel(\"Pressure deficit [hPa]\")\n",
    "plt.ylabel(r\"$R_{mw}$ [km]\")"
   ]
  },
  {
   "cell_type": "code",
   "execution_count": null,
   "metadata": {},
   "outputs": [],
   "source": [
    "plt.scatter(X[:, 1], np.exp(trace.posterior_predictive['y_hat'][0, 0, :]), marker='.', alpha=0.25)\n",
    "plt.scatter(X[:, 1], np.exp(trace.posterior_predictive['y_hat'][1, 0, :]), marker='x', alpha=0.25)\n",
    "plt.scatter(X[:, 1], np.exp(trace.posterior_predictive['y_hat'][2, 0, :]), marker='p', alpha=0.25)\n",
    "plt.scatter(X[:, 1], np.exp(trace.posterior_predictive['y_hat'][3, 0, :]), marker='d', alpha=0.25)\n",
    "plt.scatter(X[:, 1], np.exp(y), marker='x', c='k')\n",
    "plt.xlabel(r\"Latitude [$^{\\circ}$S]\")\n",
    "plt.ylabel(r\"$R_{mw}$ [km]\")"
   ]
  },
  {
   "cell_type": "markdown",
   "metadata": {},
   "source": [
    "Now use maximum sustained wind speed as the intensity predictor"
   ]
  },
  {
   "cell_type": "code",
   "execution_count": null,
   "metadata": {},
   "outputs": [],
   "source": [
    "with pm.Model() as rmaxmodel:\n",
    "    alpha = pm.Normal(r\"$\\alpha$\", mu=0, sigma=10)\n",
    "    beta = pm.Normal(r\"$\\beta$\", mu=0, sigma=1, shape=2)\n",
    "    mu = alpha + beta[0] * Xv[:, 0] + beta[1] * Xv[:, 1]\n",
    "    epsilon = pm.HalfNormal(r\"$\\epsilon$\", sigma=1)\n",
    "    y_hat = pm.Normal('y_hat', mu=mu, sigma=epsilon, observed=y)\n",
    "    step = pm.Metropolis()\n",
    "    trv = pm.sample(10000, tune=5000, step=step, return_inferencedata=True)\n",
    "    trv.extend(pm.sample_posterior_predictive(trv))"
   ]
  },
  {
   "cell_type": "code",
   "execution_count": null,
   "metadata": {},
   "outputs": [],
   "source": [
    "axes = az.plot_trace(trv, combined=False)\n",
    "aq = np.quantile(trv.posterior[r\"$\\alpha$\"], [0.05, 0.5, 0.95])\n",
    "bq = np.quantile(trv.posterior[r\"$\\beta$\"], [0.05, 0.5, 0.95], axis=(0, 1))\n",
    "eq = np.quantile(trv.posterior[r\"$\\epsilon$\"], [0.05, 0.5, 0.95])\n",
    "\n",
    "axes[0, 0].axvline(aq[1], ls='--', color='k', label=rf'$\\alpha = {{{aq[1]:.2f}}}$')\n",
    "axes[0, 0].axvline(aq[0], ls='--', color='gray', label=f\"90% CI [{aq[0]:.2f}, {aq[2]:.2f}]\")\n",
    "axes[0, 0].axvline(aq[2], ls='--', color='gray')\n",
    "\n",
    "axes[1, 0].axvline(bq[1, 0], ls='--', color='b', label=rf'$\\beta_0 = {{{bq[1, 0]:.4f}}}$ [{bq[0, 0]:.4f}, {bq[2, 0]:.4f}]')\n",
    "axes[1, 0].axvline(bq[0, 0], ls='--', color='gray',)\n",
    "axes[1, 0].axvline(bq[2, 0], ls='--', color='gray')\n",
    "\n",
    "axes[1, 0].axvline(bq[1, 1], ls='--', color='y', label=rf'$\\beta_1 = {{{bq[1, 1]:.4f}}}$ [{bq[0, 1]:.4f}, {bq[2, 1]:.4f}]')\n",
    "axes[1, 0].axvline(bq[0, 1], ls='--', color='gray',)\n",
    "axes[1, 0].axvline(bq[2, 1], ls='--', color='gray')\n",
    "\n",
    "axes[2, 0].axvline(eq[1], ls='--', color='k', label=rf'$\\epsilon = {{{eq[1]:.3f}}}$')\n",
    "axes[2, 0].axvline(eq[0], ls='--', color='gray', label=f\"90% CI [{eq[0]:.3f}, {eq[2]:.3f}]\")\n",
    "axes[2, 0].axvline(eq[2], ls='--', color='gray')\n",
    "\n",
    "axes[0, 0].legend(fontsize='x-small')\n",
    "axes[1, 0].legend(fontsize='x-small')\n",
    "axes[2, 0].legend(fontsize='x-small')\n",
    "plt.tight_layout()"
   ]
  },
  {
   "cell_type": "code",
   "execution_count": null,
   "metadata": {},
   "outputs": [],
   "source": [
    "az.summary(trv, round_to=4, hdi_prob=0.9,)"
   ]
  },
  {
   "cell_type": "code",
   "execution_count": null,
   "metadata": {},
   "outputs": [],
   "source": [
    "plt.scatter(Xv[:,0], np.exp(trv.posterior_predictive['y_hat'][0, 0, :]), marker='.', alpha=0.25)\n",
    "plt.scatter(Xv[:,0], np.exp(trv.posterior_predictive['y_hat'][1, 0, :]), marker='x', alpha=0.25)\n",
    "plt.scatter(Xv[:,0], np.exp(trv.posterior_predictive['y_hat'][2, 0, :]), marker='p', alpha=0.25)\n",
    "plt.scatter(Xv[:,0], np.exp(trv.posterior_predictive['y_hat'][3, 0, :]), marker='d', alpha=0.25)\n",
    "plt.scatter(Xv[:, 0], np.exp(y), marker='x', c='k')\n",
    "plt.xlabel(\"Wind speed [kts]\")\n",
    "plt.ylabel(r\"$R_{mw}$ [km]\")"
   ]
  },
  {
   "cell_type": "code",
   "execution_count": null,
   "metadata": {},
   "outputs": [],
   "source": [
    "plt.scatter(Xv[:, 1], np.exp(trv.posterior_predictive['y_hat'][0, 0, :]), marker='.', alpha=0.25)\n",
    "plt.scatter(Xv[:, 1], np.exp(trv.posterior_predictive['y_hat'][1, 0, :]), marker='x', alpha=0.25)\n",
    "plt.scatter(Xv[:, 1], np.exp(trv.posterior_predictive['y_hat'][2, 0, :]), marker='p', alpha=0.25)\n",
    "plt.scatter(Xv[:, 1], np.exp(trv.posterior_predictive['y_hat'][3, 0, :]), marker='d', alpha=0.25)\n",
    "plt.scatter(Xv[:, 1], np.exp(y), marker='x', c='k')\n",
    "plt.xlabel(r\"Latitude [$^{\\circ}$S]\")\n",
    "plt.ylabel(r\"$R_{mw}$ [km]\")"
   ]
  },
  {
   "cell_type": "code",
   "execution_count": null,
   "metadata": {},
   "outputs": [],
   "source": [
    "import seaborn as sns\n",
    "fig, ax = plt.subplots(1, 2, sharey=True, figsize=(12, 8))\n",
    "sns.kdeplot(x=Xv[:, 1], y = np.exp(trv.posterior_predictive['y_hat'][0, 0, :]),\n",
    "            fill=True, ax=ax[0], cbar=True, cmap='viridis',\n",
    "            cbar_kws={'orientation': 'horizontal', 'format': \"{x:.2e}\"})\n",
    "sns.kdeplot(x=Xv[:, 1], y = np.exp(y), ax=ax[0], color='k')\n",
    "c_bar = ax[0].collections[0].colorbar\n",
    "c_bar.ax.tick_params(rotation=90)\n",
    "sns.kdeplot(x=Xv[:, 0], y = np.exp(trv.posterior_predictive['y_hat'][0, 0, :]),\n",
    "            fill=True, ax=ax[1],  cbar=True, cmap='viridis',\n",
    "            cbar_kws={'orientation': 'horizontal', 'format': \"{x:.2e}\"})\n",
    "sns.kdeplot(x=Xv[:, 0], y = np.exp(y), ax=ax[1], color='k')\n",
    "c_bar = ax[1].collections[0].colorbar\n",
    "c_bar.ax.tick_params(rotation=90)\n",
    "ax[0].grid()\n",
    "ax[1].grid()\n",
    "ax[0].set_ylim((0, 150))\n",
    "ax[0].set_ylabel(r\"$R_{mw}$ [km]\")\n",
    "ax[0].set_xlabel(r\"Latitude [$^{\\circ}$S]\")\n",
    "ax[1].set_xlabel(\"Wind speed [kts]\")\n",
    "fig.tight_layout()"
   ]
  },
  {
   "cell_type": "code",
   "execution_count": null,
   "metadata": {},
   "outputs": [],
   "source": []
  }
 ],
 "metadata": {
  "interpreter": {
   "hash": "f43c04acadfa01e6d9e10f9089319e8fbb2589ebe90b9af9ee49b3bfdcbb7c34"
  },
  "kernelspec": {
   "display_name": "Python 3.10.6 64-bit ('bayes': conda)",
   "name": "python3"
  },
  "language_info": {
   "codemirror_mode": {
    "name": "ipython",
    "version": 3
   },
   "file_extension": ".py",
   "mimetype": "text/x-python",
   "name": "python",
   "nbconvert_exporter": "python",
   "pygments_lexer": "ipython3",
   "version": "3.9.19"
  },
  "orig_nbformat": 4
 },
 "nbformat": 4,
 "nbformat_minor": 2
}
