{
 "cells": [
  {
   "cell_type": "markdown",
   "metadata": {},
   "source": [
    "# Fitting beta drift to gradient of DLM wind field\n",
    "\n",
    "This investigates the relationship between broadscale horizontal shear and $\\beta$ drift in TC motion. The concept was proposed in Shan and Yu (2020)."
   ]
  },
  {
   "cell_type": "code",
   "execution_count": null,
   "metadata": {},
   "outputs": [],
   "source": [
    "import numpy as np\n",
    "import pandas as pd\n",
    "from scipy.optimize import curve_fit\n",
    "import matplotlib.pyplot as plt\n",
    "from scipy.stats import t\n",
    "import seaborn as sns\n",
    "sns.set_context(\"talk\")\n",
    "\n",
    "# Define the model function\n",
    "def model(shear, gamma, W):\n",
    "    #return W + gamma * shear\n",
    "    return W *(1 + np.exp(gamma * (shear)))\n",
    "\n",
    "# Function to pass combined Uy and Vx as a single argument to curve_fit\n",
    "def model_combined(X, gamma, W):\n",
    "    Uy, Vx = X\n",
    "    return model(Uy + Vx, gamma, W)\n",
    "\n",
    "df = pd.read_csv(\"X:/georisk/HaRIA_B_Wind/projects/tcha/data/derived/envflow/cyclic/beta.components.SH.n20.csv\")"
   ]
  },
  {
   "cell_type": "code",
   "execution_count": null,
   "metadata": {},
   "outputs": [],
   "source": [
    "u = df.ub.values\n",
    "v = df.vb.values\n",
    "Uy = df.dudy.values*10e5\n",
    "Vx = df.dvdx.values*10e5\n",
    "guess = [1, 1]"
   ]
  },
  {
   "cell_type": "code",
   "execution_count": null,
   "metadata": {},
   "outputs": [],
   "source": [
    "uopt, ucov = curve_fit(model_combined, (Uy, Vx), u, p0=guess)\n",
    "vopt, vcov = curve_fit(model_combined, (Uy, Vx), v, p0=guess)\n",
    "\n",
    "ugamma_est, uW_est = uopt\n",
    "vgamma_est, vW_est = vopt\n",
    "\n",
    "uerr = np.sqrt(np.diag(ucov))\n",
    "verr = np.sqrt(np.diag(vcov))\n",
    "\n",
    "alpha = 0.05\n",
    "n = len(u)\n",
    "p = len(uopt)\n",
    "dof = max(0, n-p)\n",
    "tval = t.ppf(1.0 - alpha / 2, dof)\n",
    "ugamma_ci = [ugamma_est - tval * uerr[0], ugamma_est + tval * uerr[0]]\n",
    "vgamma_ci = [vgamma_est - tval * verr[0], vgamma_est + tval * verr[0]]\n",
    "\n",
    "uW_ci = [uW_est - tval * uerr[1], uW_est + tval * uerr[1]]\n",
    "vW_ci = [vW_est - tval * verr[1], vW_est + tval * verr[1]]\n",
    "\n",
    "print(f\"Estimated gamma: {ugamma_est}, {vgamma_est}\")\n",
    "print(f\"Estimated W: {uW_est}, {vW_est}\")"
   ]
  },
  {
   "cell_type": "code",
   "execution_count": null,
   "metadata": {},
   "outputs": [],
   "source": [
    "z = np.sort(Uy + Vx)\n",
    "u_pred = model(z, ugamma_est, uW_est)\n",
    "v_pred = model(z, vgamma_est, vW_est)\n",
    "\n",
    "\n",
    "upper_u = model(z, ugamma_ci[1], uW_ci[1])\n",
    "lower_u = model(z, ugamma_ci[0], uW_ci[0])\n",
    "\n",
    "upper_v = model(z, vgamma_ci[1], vW_ci[1])\n",
    "lower_v = model(z, vgamma_ci[0], vW_ci[0])\n",
    "\n",
    "# Plot the observed data and the fitted model\n",
    "\n",
    "fig, ax= plt.subplots(2, 1, sharex=True, figsize=(12, 10))\n",
    "ax[0].scatter(Uy + Vx, u, label='Observed Data', color='blue')\n",
    "ax[0].plot(z, u_pred, label='Fitted Model', color='red')\n",
    "ax[0].fill_between(z, lower_u, upper_u, color='0.5', alpha=0.5)\n",
    "ax[1].scatter(Uy + Vx, v, label='Observed Data', color='blue')\n",
    "ax[1].plot(z, v_pred, label='Fitted Model', color='red')\n",
    "ax[1].fill_between(z, lower_v, upper_v, color='0.5', alpha=0.5)\n",
    "\n",
    "ax[1].set_xlabel(r'$\\partial U/\\partial y + \\partial V/\\partial x \\times 10^{-5}$ [s$^{-1}$]')\n",
    "ax[0].set_ylabel(r'$u_\\beta$')\n",
    "ax[1].set_ylabel(r'$v_\\beta$')\n",
    "plt.legend()\n",
    "plt.tight_layout()\n",
    "plt.show()"
   ]
  },
  {
   "cell_type": "code",
   "execution_count": null,
   "metadata": {},
   "outputs": [],
   "source": [
    "usst = np.sum((u - np.mean(u))**2)\n",
    "vsst = np.sum((v - np.mean(v))**2)\n",
    "ussr = np.sum((u - u_pred)**2)\n",
    "vssr = np.sum((v - v_pred)**2)\n",
    "ursq = 1 - (ussr / usst)\n",
    "vrsq = 1 - (vssr / vsst)\n",
    "\n",
    "print(f\"u R-squared: {ursq}\")\n",
    "print(f\"v R-squared: {vrsq}\")"
   ]
  }
 ],
 "metadata": {
  "kernelspec": {
   "display_name": "process",
   "language": "python",
   "name": "python3"
  },
  "language_info": {
   "codemirror_mode": {
    "name": "ipython",
    "version": 3
   },
   "file_extension": ".py",
   "mimetype": "text/x-python",
   "name": "python",
   "nbconvert_exporter": "python",
   "pygments_lexer": "ipython3",
   "version": "3.9.18"
  }
 },
 "nbformat": 4,
 "nbformat_minor": 2
}
