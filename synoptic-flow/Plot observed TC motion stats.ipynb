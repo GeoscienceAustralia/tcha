{
 "cells": [
  {
   "cell_type": "code",
   "execution_count": null,
   "metadata": {},
   "outputs": [],
   "source": [
    "%matplotlib inline\n",
    "\n",
    "import os\n",
    "from os.path import join as pjoin\n",
    "from datetime import datetime\n",
    "import pandas as pd\n",
    "import numpy as np\n",
    "import matplotlib.pyplot as plt\n",
    "from matplotlib.ticker import MaxNLocator\n",
    "import seaborn as sns\n",
    "\n",
    "from metpy.units import units\n",
    "from metpy.calc import wind_direction, wind_speed\n",
    "\n",
    "import pyproj\n",
    "\n",
    "geodesic = pyproj.Geod(ellps=\"WGS84\")\n",
    "\n",
    "\n",
    "DATA_DIR = r\"C:\\WorkSpace\\data\\tc\"\n",
    "OUTPUT_DIR = r\"..\\data\\frequency\"\n",
    "SOURCE = \"https://www.ncei.noaa.gov/products/international-best-track-archive\""
   ]
  },
  {
   "cell_type": "code",
   "execution_count": null,
   "metadata": {},
   "outputs": [],
   "source": [
    "def load_ibtracs_df():\n",
    "    \"\"\"\n",
    "    Helper function to load the IBTrACS database.\n",
    "    Column names are mapped to the same as the BoM dataset to minimise\n",
    "    the changes elsewhere in the code\n",
    "\n",
    "    \"\"\"\n",
    "    dataFile = os.path.join(DATA_DIR, \"ibtracs.since1980.list.v04r00.csv\")\n",
    "    df = pd.read_csv(\n",
    "        dataFile,\n",
    "        skiprows=[1],\n",
    "        usecols=[0, 1, 3, 5, 6, 8, 9, 11, 13, 23],\n",
    "        keep_default_na=False,\n",
    "        na_values=[\" \"],\n",
    "        parse_dates=[1],\n",
    "        date_format=\"%Y-%m-%d %H:%M:%S\",\n",
    "    )\n",
    "    df.rename(\n",
    "        columns={\n",
    "            \"SID\": \"DISTURBANCE_ID\",\n",
    "            \"ISO_TIME\": \"TM\",\n",
    "            \"WMO_WIND\": \"MAX_WIND_SPD\",\n",
    "            \"WMO_PRES\": \"CENTRAL_PRES\",\n",
    "            \"USA_WIND\": \"MAX_WIND_SPD\",\n",
    "        },\n",
    "        inplace=True,\n",
    "    )\n",
    "\n",
    "    df[\"TM\"] = pd.to_datetime(\n",
    "        df.TM, format=\"%Y-%m-%d %H:%M:%S\", errors=\"coerce\")\n",
    "    df = df[~pd.isnull(df.TM)]\n",
    "\n",
    "    # Filter to every 6 hours (to match sub-daily ERA data)\n",
    "    df[\"hour\"] = df[\"TM\"].dt.hour\n",
    "    df = df[df[\"hour\"].isin([0, 6, 12, 18])]\n",
    "    df.drop(columns=[\"hour\"], inplace=True)\n",
    "    df[\"SEASON\"] = df[\"SEASON\"].astype(int)\n",
    "    # df = df[df.SEASON == season]\n",
    "\n",
    "    # IBTrACS includes spur tracks (bits of tracks that are\n",
    "    # different to the official) - these need to be dropped.\n",
    "    df = df[df.TRACK_TYPE == \"main\"]\n",
    "\n",
    "    df.reset_index(inplace=True)\n",
    "    fwd_azimuth, _, distances = geodesic.inv(\n",
    "        df.LON[:-1],\n",
    "        df.LAT[:-1],\n",
    "        df.LON[1:],\n",
    "        df.LAT[1:],\n",
    "    )\n",
    "\n",
    "    df[\"new_index\"] = np.arange(len(df))\n",
    "    idxs = df.groupby([\"DISTURBANCE_ID\"]).agg(\n",
    "        {\"new_index\": \"max\"}).values.flatten()\n",
    "    df.drop(\"new_index\", axis=1, inplace=True)\n",
    "    # Convert max wind speed to m/s for consistency\n",
    "    df[\"MAX_WIND_SPD\"] = df[\"MAX_WIND_SPD\"] * 0.5144\n",
    "\n",
    "    dt = np.diff(df.TM).astype(float) / 3_600_000_000_000\n",
    "    u = np.zeros_like(df.LAT)\n",
    "    v = np.zeros_like(df.LAT)\n",
    "    v[:-1] = np.cos(fwd_azimuth * np.pi / 180) * distances / (dt * 1000) / 3.6\n",
    "    u[:-1] = np.sin(fwd_azimuth * np.pi / 180) * distances / (dt * 1000) / 3.6\n",
    "\n",
    "    v[idxs] = 0\n",
    "    u[idxs] = 0\n",
    "    df[\"u\"] = u\n",
    "    df[\"v\"] = v\n",
    "\n",
    "    dt = np.diff(df.TM).astype(float) / 3_600_000_000_000\n",
    "    dt_ = np.zeros(len(df))\n",
    "    dt_[:-1] = dt\n",
    "    df[\"dt\"] = dt_\n",
    "\n",
    "    df = df[df.u != 0].copy()\n",
    "    print(f\"Number of records: {len(df)}\")\n",
    "    return df\n"
   ]
  },
  {
   "cell_type": "code",
   "execution_count": null,
   "metadata": {},
   "outputs": [],
   "source": [
    "df = load_ibtracs_df()\n",
    "basins = df[\"BASIN\"].unique()"
   ]
  },
  {
   "cell_type": "code",
   "execution_count": null,
   "metadata": {},
   "outputs": [],
   "source": [
    "df['speed'] = wind_speed(df['u'].values* units('m/s'), df['v'].values* units('m/s'))\n",
    "df['direction'] = wind_direction(df['u'].values* units('m/s'), df['v'].values* units('m/s'))"
   ]
  },
  {
   "cell_type": "code",
   "execution_count": null,
   "metadata": {},
   "outputs": [],
   "source": [
    "g = sns.displot(df, x='u', col=\"BASIN\", col_wrap=3, stat='density')\n",
    "for ax in g.axes:\n",
    "    ax.grid(True)"
   ]
  },
  {
   "cell_type": "code",
   "execution_count": null,
   "metadata": {},
   "outputs": [],
   "source": [
    "df.groupby('BASIN')['u'].describe()"
   ]
  },
  {
   "cell_type": "code",
   "execution_count": null,
   "metadata": {},
   "outputs": [],
   "source": [
    "fig, axes = plt.subplots(2, 1, figsize=(12, 6), sharex=True)\n",
    "\n",
    "ax = sns.boxplot(df, x='u', y='BASIN', hue='BASIN', orient='h', ax=axes[0])\n",
    "ax.grid()\n",
    "ax.set_xlabel(\"Zonal speed [m/s]\")\n",
    "\n",
    "ax = sns.kdeplot(df, x='u', hue='BASIN', ax=axes[1], cut=0)\n",
    "ax.grid()\n",
    "ax.set_xlabel(\"Zonal speed [m/s]\")\n",
    "fig.tight_layout()"
   ]
  },
  {
   "cell_type": "markdown",
   "metadata": {},
   "source": [
    "South Pacific basin is the only basin where the mean zonal translation speed is positive (i.e. eastwards). Most basins are right-skewed, consistent with moderate westerly motion at low latitudes, and rapid acceleration in the mid-latitude westerlies at higher latitudes. "
   ]
  },
  {
   "cell_type": "code",
   "execution_count": null,
   "metadata": {},
   "outputs": [],
   "source": [
    "df.groupby(\"BASIN\").count()"
   ]
  },
  {
   "cell_type": "code",
   "execution_count": null,
   "metadata": {},
   "outputs": [],
   "source": [
    "fig, axes = plt.subplots(2, 1, figsize=(12, 6), sharex=True)\n",
    "\n",
    "ax = sns.boxplot(df, x='v', y='BASIN', hue='BASIN', orient='h', ax=axes[0])\n",
    "ax.grid()\n",
    "ax.set_xlabel(\"Meridional speed [m/s]\")\n",
    "\n",
    "ax = sns.kdeplot(df, x='v', hue='BASIN', ax=axes[1], cut=0)\n",
    "ax.grid()\n",
    "ax.set_xlabel(\"Meridional speed [m/s]\")\n",
    "fig.tight_layout()"
   ]
  },
  {
   "cell_type": "markdown",
   "metadata": {},
   "source": [
    "Distribution of meridional translation speed in the South Pacific is left-skewed, moreso than the South Indian or any other basin. "
   ]
  }
 ],
 "metadata": {
  "kernelspec": {
   "display_name": "process",
   "language": "python",
   "name": "python3"
  },
  "language_info": {
   "codemirror_mode": {
    "name": "ipython",
    "version": 3
   },
   "file_extension": ".py",
   "mimetype": "text/x-python",
   "name": "python",
   "nbconvert_exporter": "python",
   "pygments_lexer": "ipython3",
   "version": "3.9.18"
  }
 },
 "nbformat": 4,
 "nbformat_minor": 2
}
